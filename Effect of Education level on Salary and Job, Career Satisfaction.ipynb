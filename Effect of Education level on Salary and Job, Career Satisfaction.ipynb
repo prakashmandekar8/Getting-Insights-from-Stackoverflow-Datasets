{
 "cells": [
  {
   "cell_type": "code",
   "execution_count": 1,
   "metadata": {},
   "outputs": [],
   "source": [
    "import pandas as pd\n",
    "import numpy as np\n",
    "import matplotlib.pyplot as plt\n",
    "from utils import column_description"
   ]
  },
  {
   "cell_type": "code",
   "execution_count": 2,
   "metadata": {},
   "outputs": [],
   "source": [
    "file_name = \"E:/developer_survey_2019/survey_results_public_2019.csv\"\n",
    "df_19 = pd.read_csv(file_name)\n",
    "\n",
    "schema = pd.read_csv(\"E:/developer_survey_2019/survey_results_schema.csv\")"
   ]
  },
  {
   "cell_type": "markdown",
   "metadata": {},
   "source": [
    "## Business Understanding\n",
    "We will trying to find out what effect does the formal education level has on the salary, Job and career satisfication of a developer.\n",
    "\n",
    "We should understand this because people should know this before persuing any formal eduation in order to have a career in any development field.\n",
    "\n",
    "We will have a look at four major questions for this analysis."
   ]
  },
  {
   "cell_type": "code",
   "execution_count": 4,
   "metadata": {},
   "outputs": [
    {
     "name": "stdout",
     "output_type": "stream",
     "text": [
      "Which of the following best describes the highest level of formal education that you’ve completed?\n",
      "Salary converted to annual USD salaries using the exchange rate on 2019-02-01, assuming 12 working months and 50 working weeks.\n",
      "How satisfied are you with your current job? (If you work multiple jobs, answer for the one you spend the most hours on.)\n",
      "Overall, how satisfied are you with your career thus far?\n"
     ]
    }
   ],
   "source": [
    "print(column_description(\"EdLevel\", schema))\n",
    "\n",
    "print(column_description(\"ConvertedComp\", schema))\n",
    "\n",
    "print(column_description(\"JobSat\", schema))\n",
    "\n",
    "print(column_description(\"CareerSat\", schema))\n"
   ]
  },
  {
   "cell_type": "markdown",
   "metadata": {},
   "source": [
    "## Data Understanding\n",
    "Lets look at the count of different values in JobSat(Job Satisfaction) and CareerSat( Career Satisfaction)."
   ]
  },
  {
   "cell_type": "code",
   "execution_count": 5,
   "metadata": {},
   "outputs": [
    {
     "data": {
      "text/plain": [
       "Slightly satisfied                    24207\n",
       "Very satisfied                        22452\n",
       "Slightly dissatisfied                 10752\n",
       "Neither satisfied nor dissatisfied     8720\n",
       "Very dissatisfied                      4857\n",
       "Name: JobSat, dtype: int64"
      ]
     },
     "execution_count": 5,
     "metadata": {},
     "output_type": "execute_result"
    }
   ],
   "source": [
    "df_19[\"JobSat\"].value_counts()"
   ]
  },
  {
   "cell_type": "code",
   "execution_count": 6,
   "metadata": {},
   "outputs": [
    {
     "data": {
      "text/plain": [
       "Very satisfied                        29173\n",
       "Slightly satisfied                    25018\n",
       "Slightly dissatisfied                  7670\n",
       "Neither satisfied nor dissatisfied     7252\n",
       "Very dissatisfied                      3734\n",
       "Name: CareerSat, dtype: int64"
      ]
     },
     "execution_count": 6,
     "metadata": {},
     "output_type": "execute_result"
    }
   ],
   "source": [
    "df_19[\"CareerSat\"].value_counts()"
   ]
  },
  {
   "cell_type": "markdown",
   "metadata": {},
   "source": [
    "## Data Preparation\n",
    "We will have a look at the null values in the cloumn."
   ]
  },
  {
   "cell_type": "code",
   "execution_count": 7,
   "metadata": {},
   "outputs": [
    {
     "data": {
      "text/plain": [
       "16036"
      ]
     },
     "execution_count": 7,
     "metadata": {},
     "output_type": "execute_result"
    }
   ],
   "source": [
    "df_19[\"CareerSat\"].isnull().sum()"
   ]
  },
  {
   "cell_type": "markdown",
   "metadata": {},
   "source": [
    "For this particular purpose, we are ignoring the null values because they dont contribute to the business question.\n",
    "\n",
    "Now, we will convert the different values in these columns into reting from 1 to 5"
   ]
  },
  {
   "cell_type": "code",
   "execution_count": 9,
   "metadata": {},
   "outputs": [],
   "source": [
    "\n",
    "convert_ratings = {\"JobSat\": {\"Very satisfied\": 5, \"Slightly satisfied\": 4, \n",
    "                              \"Neither satisfied nor dissatisfied\": 3, \n",
    "                              \"Slightly dissatisfied\": 2, \"Very dissatisfied\": 1},\n",
    "                  \"CareerSat\": {\"Very satisfied\": 5, \"Slightly satisfied\": 4, \n",
    "                              \"Neither satisfied nor dissatisfied\": 3, \n",
    "                              \"Slightly dissatisfied\": 2, \"Very dissatisfied\": 1}}"
   ]
  },
  {
   "cell_type": "code",
   "execution_count": 11,
   "metadata": {},
   "outputs": [
    {
     "data": {
      "text/html": [
       "<div>\n",
       "<style scoped>\n",
       "    .dataframe tbody tr th:only-of-type {\n",
       "        vertical-align: middle;\n",
       "    }\n",
       "\n",
       "    .dataframe tbody tr th {\n",
       "        vertical-align: top;\n",
       "    }\n",
       "\n",
       "    .dataframe thead th {\n",
       "        text-align: right;\n",
       "    }\n",
       "</style>\n",
       "<table border=\"1\" class=\"dataframe\">\n",
       "  <thead>\n",
       "    <tr style=\"text-align: right;\">\n",
       "      <th></th>\n",
       "      <th>Respondent</th>\n",
       "      <th>MainBranch</th>\n",
       "      <th>Hobbyist</th>\n",
       "      <th>OpenSourcer</th>\n",
       "      <th>OpenSource</th>\n",
       "      <th>Employment</th>\n",
       "      <th>Country</th>\n",
       "      <th>Student</th>\n",
       "      <th>EdLevel</th>\n",
       "      <th>UndergradMajor</th>\n",
       "      <th>...</th>\n",
       "      <th>WelcomeChange</th>\n",
       "      <th>SONewContent</th>\n",
       "      <th>Age</th>\n",
       "      <th>Gender</th>\n",
       "      <th>Trans</th>\n",
       "      <th>Sexuality</th>\n",
       "      <th>Ethnicity</th>\n",
       "      <th>Dependents</th>\n",
       "      <th>SurveyLength</th>\n",
       "      <th>SurveyEase</th>\n",
       "    </tr>\n",
       "  </thead>\n",
       "  <tbody>\n",
       "    <tr>\n",
       "      <th>0</th>\n",
       "      <td>1</td>\n",
       "      <td>I am a student who is learning to code</td>\n",
       "      <td>Yes</td>\n",
       "      <td>Never</td>\n",
       "      <td>The quality of OSS and closed source software ...</td>\n",
       "      <td>Not employed, and not looking for work</td>\n",
       "      <td>United Kingdom</td>\n",
       "      <td>No</td>\n",
       "      <td>Primary/elementary school</td>\n",
       "      <td>NaN</td>\n",
       "      <td>...</td>\n",
       "      <td>Just as welcome now as I felt last year</td>\n",
       "      <td>Tech articles written by other developers;Indu...</td>\n",
       "      <td>14.0</td>\n",
       "      <td>Man</td>\n",
       "      <td>No</td>\n",
       "      <td>Straight / Heterosexual</td>\n",
       "      <td>NaN</td>\n",
       "      <td>No</td>\n",
       "      <td>Appropriate in length</td>\n",
       "      <td>Neither easy nor difficult</td>\n",
       "    </tr>\n",
       "    <tr>\n",
       "      <th>1</th>\n",
       "      <td>2</td>\n",
       "      <td>I am a student who is learning to code</td>\n",
       "      <td>No</td>\n",
       "      <td>Less than once per year</td>\n",
       "      <td>The quality of OSS and closed source software ...</td>\n",
       "      <td>Not employed, but looking for work</td>\n",
       "      <td>Bosnia and Herzegovina</td>\n",
       "      <td>Yes, full-time</td>\n",
       "      <td>Secondary school (e.g. American high school, G...</td>\n",
       "      <td>NaN</td>\n",
       "      <td>...</td>\n",
       "      <td>Just as welcome now as I felt last year</td>\n",
       "      <td>Tech articles written by other developers;Indu...</td>\n",
       "      <td>19.0</td>\n",
       "      <td>Man</td>\n",
       "      <td>No</td>\n",
       "      <td>Straight / Heterosexual</td>\n",
       "      <td>NaN</td>\n",
       "      <td>No</td>\n",
       "      <td>Appropriate in length</td>\n",
       "      <td>Neither easy nor difficult</td>\n",
       "    </tr>\n",
       "    <tr>\n",
       "      <th>2</th>\n",
       "      <td>3</td>\n",
       "      <td>I am not primarily a developer, but I write co...</td>\n",
       "      <td>Yes</td>\n",
       "      <td>Never</td>\n",
       "      <td>The quality of OSS and closed source software ...</td>\n",
       "      <td>Employed full-time</td>\n",
       "      <td>Thailand</td>\n",
       "      <td>No</td>\n",
       "      <td>Bachelor’s degree (BA, BS, B.Eng., etc.)</td>\n",
       "      <td>Web development or web design</td>\n",
       "      <td>...</td>\n",
       "      <td>Just as welcome now as I felt last year</td>\n",
       "      <td>Tech meetups or events in your area;Courses on...</td>\n",
       "      <td>28.0</td>\n",
       "      <td>Man</td>\n",
       "      <td>No</td>\n",
       "      <td>Straight / Heterosexual</td>\n",
       "      <td>NaN</td>\n",
       "      <td>Yes</td>\n",
       "      <td>Appropriate in length</td>\n",
       "      <td>Neither easy nor difficult</td>\n",
       "    </tr>\n",
       "    <tr>\n",
       "      <th>3</th>\n",
       "      <td>4</td>\n",
       "      <td>I am a developer by profession</td>\n",
       "      <td>No</td>\n",
       "      <td>Never</td>\n",
       "      <td>The quality of OSS and closed source software ...</td>\n",
       "      <td>Employed full-time</td>\n",
       "      <td>United States</td>\n",
       "      <td>No</td>\n",
       "      <td>Bachelor’s degree (BA, BS, B.Eng., etc.)</td>\n",
       "      <td>Computer science, computer engineering, or sof...</td>\n",
       "      <td>...</td>\n",
       "      <td>Just as welcome now as I felt last year</td>\n",
       "      <td>Tech articles written by other developers;Indu...</td>\n",
       "      <td>22.0</td>\n",
       "      <td>Man</td>\n",
       "      <td>No</td>\n",
       "      <td>Straight / Heterosexual</td>\n",
       "      <td>White or of European descent</td>\n",
       "      <td>No</td>\n",
       "      <td>Appropriate in length</td>\n",
       "      <td>Easy</td>\n",
       "    </tr>\n",
       "    <tr>\n",
       "      <th>4</th>\n",
       "      <td>5</td>\n",
       "      <td>I am a developer by profession</td>\n",
       "      <td>Yes</td>\n",
       "      <td>Once a month or more often</td>\n",
       "      <td>OSS is, on average, of HIGHER quality than pro...</td>\n",
       "      <td>Employed full-time</td>\n",
       "      <td>Ukraine</td>\n",
       "      <td>No</td>\n",
       "      <td>Bachelor’s degree (BA, BS, B.Eng., etc.)</td>\n",
       "      <td>Computer science, computer engineering, or sof...</td>\n",
       "      <td>...</td>\n",
       "      <td>Just as welcome now as I felt last year</td>\n",
       "      <td>Tech meetups or events in your area;Courses on...</td>\n",
       "      <td>30.0</td>\n",
       "      <td>Man</td>\n",
       "      <td>No</td>\n",
       "      <td>Straight / Heterosexual</td>\n",
       "      <td>White or of European descent;Multiracial</td>\n",
       "      <td>No</td>\n",
       "      <td>Appropriate in length</td>\n",
       "      <td>Easy</td>\n",
       "    </tr>\n",
       "  </tbody>\n",
       "</table>\n",
       "<p>5 rows × 85 columns</p>\n",
       "</div>"
      ],
      "text/plain": [
       "   Respondent                                         MainBranch Hobbyist  \\\n",
       "0           1             I am a student who is learning to code      Yes   \n",
       "1           2             I am a student who is learning to code       No   \n",
       "2           3  I am not primarily a developer, but I write co...      Yes   \n",
       "3           4                     I am a developer by profession       No   \n",
       "4           5                     I am a developer by profession      Yes   \n",
       "\n",
       "                  OpenSourcer  \\\n",
       "0                       Never   \n",
       "1     Less than once per year   \n",
       "2                       Never   \n",
       "3                       Never   \n",
       "4  Once a month or more often   \n",
       "\n",
       "                                          OpenSource  \\\n",
       "0  The quality of OSS and closed source software ...   \n",
       "1  The quality of OSS and closed source software ...   \n",
       "2  The quality of OSS and closed source software ...   \n",
       "3  The quality of OSS and closed source software ...   \n",
       "4  OSS is, on average, of HIGHER quality than pro...   \n",
       "\n",
       "                               Employment                 Country  \\\n",
       "0  Not employed, and not looking for work          United Kingdom   \n",
       "1      Not employed, but looking for work  Bosnia and Herzegovina   \n",
       "2                      Employed full-time                Thailand   \n",
       "3                      Employed full-time           United States   \n",
       "4                      Employed full-time                 Ukraine   \n",
       "\n",
       "          Student                                            EdLevel  \\\n",
       "0              No                          Primary/elementary school   \n",
       "1  Yes, full-time  Secondary school (e.g. American high school, G...   \n",
       "2              No           Bachelor’s degree (BA, BS, B.Eng., etc.)   \n",
       "3              No           Bachelor’s degree (BA, BS, B.Eng., etc.)   \n",
       "4              No           Bachelor’s degree (BA, BS, B.Eng., etc.)   \n",
       "\n",
       "                                      UndergradMajor  ...  \\\n",
       "0                                                NaN  ...   \n",
       "1                                                NaN  ...   \n",
       "2                      Web development or web design  ...   \n",
       "3  Computer science, computer engineering, or sof...  ...   \n",
       "4  Computer science, computer engineering, or sof...  ...   \n",
       "\n",
       "                             WelcomeChange  \\\n",
       "0  Just as welcome now as I felt last year   \n",
       "1  Just as welcome now as I felt last year   \n",
       "2  Just as welcome now as I felt last year   \n",
       "3  Just as welcome now as I felt last year   \n",
       "4  Just as welcome now as I felt last year   \n",
       "\n",
       "                                        SONewContent   Age Gender Trans  \\\n",
       "0  Tech articles written by other developers;Indu...  14.0    Man    No   \n",
       "1  Tech articles written by other developers;Indu...  19.0    Man    No   \n",
       "2  Tech meetups or events in your area;Courses on...  28.0    Man    No   \n",
       "3  Tech articles written by other developers;Indu...  22.0    Man    No   \n",
       "4  Tech meetups or events in your area;Courses on...  30.0    Man    No   \n",
       "\n",
       "                 Sexuality                                 Ethnicity  \\\n",
       "0  Straight / Heterosexual                                       NaN   \n",
       "1  Straight / Heterosexual                                       NaN   \n",
       "2  Straight / Heterosexual                                       NaN   \n",
       "3  Straight / Heterosexual              White or of European descent   \n",
       "4  Straight / Heterosexual  White or of European descent;Multiracial   \n",
       "\n",
       "   Dependents           SurveyLength                  SurveyEase  \n",
       "0          No  Appropriate in length  Neither easy nor difficult  \n",
       "1          No  Appropriate in length  Neither easy nor difficult  \n",
       "2         Yes  Appropriate in length  Neither easy nor difficult  \n",
       "3          No  Appropriate in length                        Easy  \n",
       "4          No  Appropriate in length                        Easy  \n",
       "\n",
       "[5 rows x 85 columns]"
      ]
     },
     "execution_count": 11,
     "metadata": {},
     "output_type": "execute_result"
    }
   ],
   "source": [
    "new_df = df_19.replace(convert_ratings)\n",
    "new_df.head()"
   ]
  },
  {
   "cell_type": "markdown",
   "metadata": {},
   "source": [
    "## Statistics about the data\n",
    "Lets See at the average compentation with respect  to differnt education levels."
   ]
  },
  {
   "cell_type": "code",
   "execution_count": 35,
   "metadata": {},
   "outputs": [
    {
     "data": {
      "text/html": [
       "<div>\n",
       "<style scoped>\n",
       "    .dataframe tbody tr th:only-of-type {\n",
       "        vertical-align: middle;\n",
       "    }\n",
       "\n",
       "    .dataframe tbody tr th {\n",
       "        vertical-align: top;\n",
       "    }\n",
       "\n",
       "    .dataframe thead th {\n",
       "        text-align: right;\n",
       "    }\n",
       "</style>\n",
       "<table border=\"1\" class=\"dataframe\">\n",
       "  <thead>\n",
       "    <tr style=\"text-align: right;\">\n",
       "      <th></th>\n",
       "      <th>ConvertedComp</th>\n",
       "    </tr>\n",
       "    <tr>\n",
       "      <th>EdLevel</th>\n",
       "      <th></th>\n",
       "    </tr>\n",
       "  </thead>\n",
       "  <tbody>\n",
       "    <tr>\n",
       "      <th>Secondary school (e.g. American high school, German Realschule or Gymnasium, etc.)</th>\n",
       "      <td>85330.023734</td>\n",
       "    </tr>\n",
       "    <tr>\n",
       "      <th>Professional degree (JD, MD, etc.)</th>\n",
       "      <td>86490.193289</td>\n",
       "    </tr>\n",
       "    <tr>\n",
       "      <th>Primary/elementary school</th>\n",
       "      <td>95072.546154</td>\n",
       "    </tr>\n",
       "    <tr>\n",
       "      <th>Some college/university study without earning a degree</th>\n",
       "      <td>117587.731065</td>\n",
       "    </tr>\n",
       "    <tr>\n",
       "      <th>Master’s degree (MA, MS, M.Eng., MBA, etc.)</th>\n",
       "      <td>120712.385650</td>\n",
       "    </tr>\n",
       "    <tr>\n",
       "      <th>Bachelor’s degree (BA, BS, B.Eng., etc.)</th>\n",
       "      <td>134966.131508</td>\n",
       "    </tr>\n",
       "    <tr>\n",
       "      <th>Associate degree</th>\n",
       "      <td>146191.275269</td>\n",
       "    </tr>\n",
       "    <tr>\n",
       "      <th>I never completed any formal education</th>\n",
       "      <td>154087.313636</td>\n",
       "    </tr>\n",
       "    <tr>\n",
       "      <th>Other doctoral degree (Ph.D, Ed.D., etc.)</th>\n",
       "      <td>171504.379046</td>\n",
       "    </tr>\n",
       "  </tbody>\n",
       "</table>\n",
       "</div>"
      ],
      "text/plain": [
       "                                                    ConvertedComp\n",
       "EdLevel                                                          \n",
       "Secondary school (e.g. American high school, Ge...   85330.023734\n",
       "Professional degree (JD, MD, etc.)                   86490.193289\n",
       "Primary/elementary school                            95072.546154\n",
       "Some college/university study without earning a...  117587.731065\n",
       "Master’s degree (MA, MS, M.Eng., MBA, etc.)         120712.385650\n",
       "Bachelor’s degree (BA, BS, B.Eng., etc.)            134966.131508\n",
       "Associate degree                                    146191.275269\n",
       "I never completed any formal education              154087.313636\n",
       "Other doctoral degree (Ph.D, Ed.D., etc.)           171504.379046"
      ]
     },
     "execution_count": 35,
     "metadata": {},
     "output_type": "execute_result"
    }
   ],
   "source": [
    "converted_comp = new_df.groupby(['EdLevel']).mean()['ConvertedComp'].sort_values().reset_index()\n",
    "converted_comp.set_index('EdLevel', inplace=True)\n",
    "converted_comp"
   ]
  },
  {
   "cell_type": "markdown",
   "metadata": {},
   "source": [
    "In general, the compensation does seem to have an effect on compensation but it isnt direct. for instance, the highest compensation belongs to the developers having doctoral degree or people who have never completed any formal education."
   ]
  },
  {
   "cell_type": "code",
   "execution_count": 36,
   "metadata": {},
   "outputs": [
    {
     "data": {
      "text/html": [
       "<div>\n",
       "<style scoped>\n",
       "    .dataframe tbody tr th:only-of-type {\n",
       "        vertical-align: middle;\n",
       "    }\n",
       "\n",
       "    .dataframe tbody tr th {\n",
       "        vertical-align: top;\n",
       "    }\n",
       "\n",
       "    .dataframe thead th {\n",
       "        text-align: right;\n",
       "    }\n",
       "</style>\n",
       "<table border=\"1\" class=\"dataframe\">\n",
       "  <thead>\n",
       "    <tr style=\"text-align: right;\">\n",
       "      <th></th>\n",
       "      <th>JobSat</th>\n",
       "    </tr>\n",
       "    <tr>\n",
       "      <th>EdLevel</th>\n",
       "      <th></th>\n",
       "    </tr>\n",
       "  </thead>\n",
       "  <tbody>\n",
       "    <tr>\n",
       "      <th>I never completed any formal education</th>\n",
       "      <td>3.401216</td>\n",
       "    </tr>\n",
       "    <tr>\n",
       "      <th>Professional degree (JD, MD, etc.)</th>\n",
       "      <td>3.435614</td>\n",
       "    </tr>\n",
       "    <tr>\n",
       "      <th>Primary/elementary school</th>\n",
       "      <td>3.590028</td>\n",
       "    </tr>\n",
       "    <tr>\n",
       "      <th>Bachelor’s degree (BA, BS, B.Eng., etc.)</th>\n",
       "      <td>3.664674</td>\n",
       "    </tr>\n",
       "    <tr>\n",
       "      <th>Master’s degree (MA, MS, M.Eng., MBA, etc.)</th>\n",
       "      <td>3.694469</td>\n",
       "    </tr>\n",
       "    <tr>\n",
       "      <th>Some college/university study without earning a degree</th>\n",
       "      <td>3.706683</td>\n",
       "    </tr>\n",
       "    <tr>\n",
       "      <th>Associate degree</th>\n",
       "      <td>3.730283</td>\n",
       "    </tr>\n",
       "    <tr>\n",
       "      <th>Secondary school (e.g. American high school, German Realschule or Gymnasium, etc.)</th>\n",
       "      <td>3.750000</td>\n",
       "    </tr>\n",
       "    <tr>\n",
       "      <th>Other doctoral degree (Ph.D, Ed.D., etc.)</th>\n",
       "      <td>3.905025</td>\n",
       "    </tr>\n",
       "  </tbody>\n",
       "</table>\n",
       "</div>"
      ],
      "text/plain": [
       "                                                      JobSat\n",
       "EdLevel                                                     \n",
       "I never completed any formal education              3.401216\n",
       "Professional degree (JD, MD, etc.)                  3.435614\n",
       "Primary/elementary school                           3.590028\n",
       "Bachelor’s degree (BA, BS, B.Eng., etc.)            3.664674\n",
       "Master’s degree (MA, MS, M.Eng., MBA, etc.)         3.694469\n",
       "Some college/university study without earning a...  3.706683\n",
       "Associate degree                                    3.730283\n",
       "Secondary school (e.g. American high school, Ge...  3.750000\n",
       "Other doctoral degree (Ph.D, Ed.D., etc.)           3.905025"
      ]
     },
     "execution_count": 36,
     "metadata": {},
     "output_type": "execute_result"
    }
   ],
   "source": [
    "job_sat = new_df.groupby(['EdLevel']).mean()['JobSat'].sort_values().reset_index()\n",
    "job_sat.set_index('EdLevel', inplace=True)\n",
    "job_sat"
   ]
  },
  {
   "cell_type": "markdown",
   "metadata": {},
   "source": [
    "Job satisfaction does show a similar trend but its much more direct and this does show that having a formal education leads to more job satisfaction"
   ]
  },
  {
   "cell_type": "code",
   "execution_count": 37,
   "metadata": {},
   "outputs": [
    {
     "data": {
      "text/html": [
       "<div>\n",
       "<style scoped>\n",
       "    .dataframe tbody tr th:only-of-type {\n",
       "        vertical-align: middle;\n",
       "    }\n",
       "\n",
       "    .dataframe tbody tr th {\n",
       "        vertical-align: top;\n",
       "    }\n",
       "\n",
       "    .dataframe thead th {\n",
       "        text-align: right;\n",
       "    }\n",
       "</style>\n",
       "<table border=\"1\" class=\"dataframe\">\n",
       "  <thead>\n",
       "    <tr style=\"text-align: right;\">\n",
       "      <th></th>\n",
       "      <th>CareerSat</th>\n",
       "    </tr>\n",
       "    <tr>\n",
       "      <th>EdLevel</th>\n",
       "      <th></th>\n",
       "    </tr>\n",
       "  </thead>\n",
       "  <tbody>\n",
       "    <tr>\n",
       "      <th>I never completed any formal education</th>\n",
       "      <td>3.543353</td>\n",
       "    </tr>\n",
       "    <tr>\n",
       "      <th>Professional degree (JD, MD, etc.)</th>\n",
       "      <td>3.683482</td>\n",
       "    </tr>\n",
       "    <tr>\n",
       "      <th>Primary/elementary school</th>\n",
       "      <td>3.703125</td>\n",
       "    </tr>\n",
       "    <tr>\n",
       "      <th>Master’s degree (MA, MS, M.Eng., MBA, etc.)</th>\n",
       "      <td>3.908123</td>\n",
       "    </tr>\n",
       "    <tr>\n",
       "      <th>Bachelor’s degree (BA, BS, B.Eng., etc.)</th>\n",
       "      <td>3.947891</td>\n",
       "    </tr>\n",
       "    <tr>\n",
       "      <th>Some college/university study without earning a degree</th>\n",
       "      <td>3.955605</td>\n",
       "    </tr>\n",
       "    <tr>\n",
       "      <th>Secondary school (e.g. American high school, German Realschule or Gymnasium, etc.)</th>\n",
       "      <td>3.977008</td>\n",
       "    </tr>\n",
       "    <tr>\n",
       "      <th>Associate degree</th>\n",
       "      <td>4.001264</td>\n",
       "    </tr>\n",
       "    <tr>\n",
       "      <th>Other doctoral degree (Ph.D, Ed.D., etc.)</th>\n",
       "      <td>4.062218</td>\n",
       "    </tr>\n",
       "  </tbody>\n",
       "</table>\n",
       "</div>"
      ],
      "text/plain": [
       "                                                    CareerSat\n",
       "EdLevel                                                      \n",
       "I never completed any formal education               3.543353\n",
       "Professional degree (JD, MD, etc.)                   3.683482\n",
       "Primary/elementary school                            3.703125\n",
       "Master’s degree (MA, MS, M.Eng., MBA, etc.)          3.908123\n",
       "Bachelor’s degree (BA, BS, B.Eng., etc.)             3.947891\n",
       "Some college/university study without earning a...   3.955605\n",
       "Secondary school (e.g. American high school, Ge...   3.977008\n",
       "Associate degree                                     4.001264\n",
       "Other doctoral degree (Ph.D, Ed.D., etc.)            4.062218"
      ]
     },
     "execution_count": 37,
     "metadata": {},
     "output_type": "execute_result"
    }
   ],
   "source": [
    "career_sat = new_df.groupby(['EdLevel']).mean()['CareerSat'].sort_values().reset_index()\n",
    "career_sat.set_index('EdLevel', inplace=True)\n",
    "career_sat"
   ]
  },
  {
   "cell_type": "markdown",
   "metadata": {},
   "source": [
    "Career satisfaction follows almost a similar trend with Job Satisfaction\n",
    "\n",
    "Let's merge the above dataframes in order to visualize them side by side"
   ]
  },
  {
   "cell_type": "code",
   "execution_count": 38,
   "metadata": {
    "scrolled": true
   },
   "outputs": [
    {
     "data": {
      "text/html": [
       "<div>\n",
       "<style scoped>\n",
       "    .dataframe tbody tr th:only-of-type {\n",
       "        vertical-align: middle;\n",
       "    }\n",
       "\n",
       "    .dataframe tbody tr th {\n",
       "        vertical-align: top;\n",
       "    }\n",
       "\n",
       "    .dataframe thead th {\n",
       "        text-align: right;\n",
       "    }\n",
       "</style>\n",
       "<table border=\"1\" class=\"dataframe\">\n",
       "  <thead>\n",
       "    <tr style=\"text-align: right;\">\n",
       "      <th></th>\n",
       "      <th>ConvertedComp</th>\n",
       "      <th>JobSat</th>\n",
       "      <th>CareerSat</th>\n",
       "    </tr>\n",
       "    <tr>\n",
       "      <th>EdLevel</th>\n",
       "      <th></th>\n",
       "      <th></th>\n",
       "      <th></th>\n",
       "    </tr>\n",
       "  </thead>\n",
       "  <tbody>\n",
       "    <tr>\n",
       "      <th>Secondary school (e.g. American high school, German Realschule or Gymnasium, etc.)</th>\n",
       "      <td>85330.023734</td>\n",
       "      <td>3.750000</td>\n",
       "      <td>3.977008</td>\n",
       "    </tr>\n",
       "    <tr>\n",
       "      <th>Professional degree (JD, MD, etc.)</th>\n",
       "      <td>86490.193289</td>\n",
       "      <td>3.435614</td>\n",
       "      <td>3.683482</td>\n",
       "    </tr>\n",
       "    <tr>\n",
       "      <th>Primary/elementary school</th>\n",
       "      <td>95072.546154</td>\n",
       "      <td>3.590028</td>\n",
       "      <td>3.703125</td>\n",
       "    </tr>\n",
       "    <tr>\n",
       "      <th>Some college/university study without earning a degree</th>\n",
       "      <td>117587.731065</td>\n",
       "      <td>3.706683</td>\n",
       "      <td>3.955605</td>\n",
       "    </tr>\n",
       "    <tr>\n",
       "      <th>Master’s degree (MA, MS, M.Eng., MBA, etc.)</th>\n",
       "      <td>120712.385650</td>\n",
       "      <td>3.694469</td>\n",
       "      <td>3.908123</td>\n",
       "    </tr>\n",
       "    <tr>\n",
       "      <th>Bachelor’s degree (BA, BS, B.Eng., etc.)</th>\n",
       "      <td>134966.131508</td>\n",
       "      <td>3.664674</td>\n",
       "      <td>3.947891</td>\n",
       "    </tr>\n",
       "    <tr>\n",
       "      <th>Associate degree</th>\n",
       "      <td>146191.275269</td>\n",
       "      <td>3.730283</td>\n",
       "      <td>4.001264</td>\n",
       "    </tr>\n",
       "    <tr>\n",
       "      <th>I never completed any formal education</th>\n",
       "      <td>154087.313636</td>\n",
       "      <td>3.401216</td>\n",
       "      <td>3.543353</td>\n",
       "    </tr>\n",
       "    <tr>\n",
       "      <th>Other doctoral degree (Ph.D, Ed.D., etc.)</th>\n",
       "      <td>171504.379046</td>\n",
       "      <td>3.905025</td>\n",
       "      <td>4.062218</td>\n",
       "    </tr>\n",
       "  </tbody>\n",
       "</table>\n",
       "</div>"
      ],
      "text/plain": [
       "                                                    ConvertedComp    JobSat  \\\n",
       "EdLevel                                                                       \n",
       "Secondary school (e.g. American high school, Ge...   85330.023734  3.750000   \n",
       "Professional degree (JD, MD, etc.)                   86490.193289  3.435614   \n",
       "Primary/elementary school                            95072.546154  3.590028   \n",
       "Some college/university study without earning a...  117587.731065  3.706683   \n",
       "Master’s degree (MA, MS, M.Eng., MBA, etc.)         120712.385650  3.694469   \n",
       "Bachelor’s degree (BA, BS, B.Eng., etc.)            134966.131508  3.664674   \n",
       "Associate degree                                    146191.275269  3.730283   \n",
       "I never completed any formal education              154087.313636  3.401216   \n",
       "Other doctoral degree (Ph.D, Ed.D., etc.)           171504.379046  3.905025   \n",
       "\n",
       "                                                    CareerSat  \n",
       "EdLevel                                                        \n",
       "Secondary school (e.g. American high school, Ge...   3.977008  \n",
       "Professional degree (JD, MD, etc.)                   3.683482  \n",
       "Primary/elementary school                            3.703125  \n",
       "Some college/university study without earning a...   3.955605  \n",
       "Master’s degree (MA, MS, M.Eng., MBA, etc.)          3.908123  \n",
       "Bachelor’s degree (BA, BS, B.Eng., etc.)             3.947891  \n",
       "Associate degree                                     4.001264  \n",
       "I never completed any formal education               3.543353  \n",
       "Other doctoral degree (Ph.D, Ed.D., etc.)            4.062218  "
      ]
     },
     "execution_count": 38,
     "metadata": {},
     "output_type": "execute_result"
    }
   ],
   "source": [
    "salary_jobsat = pd.merge(converted_comp, job_sat, on='EdLevel')\n",
    "salary_job_career = pd.merge(salary_jobsat, career_sat, on='EdLevel')\n",
    "salary_job_career"
   ]
  },
  {
   "cell_type": "code",
   "execution_count": 40,
   "metadata": {},
   "outputs": [],
   "source": [
    "salary_job_career['ConvertedComp'] = (salary_job_career['ConvertedComp'] - salary_job_career['ConvertedComp'].mean())/salary_job_career['ConvertedComp'].sum()\n",
    "salary_job_career['JobSat'] = salary_job_career['JobSat'] - salary_job_career['JobSat'].mean()\n",
    "salary_job_career['CareerSat'] = salary_job_career['CareerSat'] - salary_job_career['CareerSat'].mean()"
   ]
  },
  {
   "cell_type": "code",
   "execution_count": 41,
   "metadata": {},
   "outputs": [],
   "source": [
    "\n",
    "salary_job_career.index = ['Secondary school ',\n",
    "                           'Professional degree (JD, MD, etc.)', 'Primary/elementary school',\n",
    "                           'Some college/university study without earning a degree',\n",
    "                           'Master’s degree (MA, MS, M.Eng., MBA, etc.)',\n",
    "                           'Bachelor’s degree (BA, BS, B.Eng., etc.)', 'Associate degree',\n",
    "                           'I never completed any formal education',\n",
    "                           'Other doctoral degree (Ph.D, Ed.D., etc.)']"
   ]
  },
  {
   "cell_type": "code",
   "execution_count": 47,
   "metadata": {},
   "outputs": [
    {
     "data": {
      "text/plain": [
       "<matplotlib.lines.Line2D at 0x1ed28a57d90>"
      ]
     },
     "execution_count": 47,
     "metadata": {},
     "output_type": "execute_result"
    },
    {
     "data": {
      "image/png": "[encoded data removed]",
      "text/plain": [
       "<Figure size 864x576 with 1 Axes>"
      ]
     },
     "metadata": {
      "needs_background": "light"
     },
     "output_type": "display_data"
    }
   ],
   "source": [
    "(salary_job_career).plot(kind='barh',\n",
    "                         title='Affect of Education Level on Salary, Job and Career Satisfaction',\n",
    "                         figsize=(12,8))\n",
    "\n",
    "for i in [-0.3, -0.2, -0.1, 0.1, 0.2]:\n",
    "    plt.axvline(x=i, color='lightgrey')\n",
    "plt.axvline(x=0, color='black')"
   ]
  },
  {
   "cell_type": "markdown",
   "metadata": {},
   "source": [
    "## Result"
   ]
  },
  {
   "cell_type": "markdown",
   "metadata": {},
   "source": [
    "From the plot, it seems most of the degrees affect all three aspects in the positive direction with the exception of Professional degree which affects them all in a negative way. What's interesting to see is although not having a formal education can result in a higher salary, it affects career and job satisfaction in a heavily in a negative way"
   ]
  },
  {
   "cell_type": "markdown",
   "metadata": {},
   "source": [
    "## Thank You"
   ]
  },
  {
   "cell_type": "code",
   "execution_count": null,
   "metadata": {},
   "outputs": [],
   "source": []
  }
 ],
 "metadata": {
  "kernelspec": {
   "display_name": "Python 3",
   "language": "python",
   "name": "python3"
  },
  "language_info": {
   "codemirror_mode": {
    "name": "ipython",
    "version": 3
   },
   "file_extension": ".py",
   "mimetype": "text/x-python",
   "name": "python",
   "nbconvert_exporter": "python",
   "pygments_lexer": "ipython3",
   "version": "3.8.3"
  }
 },
 "nbformat": 4,
 "nbformat_minor": 4
}
